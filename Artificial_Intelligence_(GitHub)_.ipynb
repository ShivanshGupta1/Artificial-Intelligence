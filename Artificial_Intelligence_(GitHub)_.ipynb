{
  "nbformat": 4,
  "nbformat_minor": 0,
  "metadata": {
    "colab": {
      "name": "Artificial Intelligence (GitHub) .ipynb",
      "provenance": [],
      "authorship_tag": "ABX9TyOencJxQn+m6gfOa5ZFZoa0",
      "include_colab_link": true
    },
    "kernelspec": {
      "name": "python3",
      "display_name": "Python 3"
    }
  },
  "cells": [
    {
      "cell_type": "markdown",
      "metadata": {
        "id": "view-in-github",
        "colab_type": "text"
      },
      "source": [
        "<a href=\"https://colab.research.google.com/github/ShivanshGupta1/Artificial-Intelligence/blob/main/Artificial_Intelligence_(GitHub)_.ipynb\" target=\"_parent\"><img src=\"https://colab.research.google.com/assets/colab-badge.svg\" alt=\"Open In Colab\"/></a>"
      ]
    },
    {
      "cell_type": "code",
      "metadata": {
        "id": "2se6XqhTXehZ"
      },
      "source": [
        "features = [[140,1], [130,1],[150,0],[170,0]]\n",
        "outcomes = [0,0,1,1]\n",
        "from sklearn.tree import DecisionTreeClassifier\n",
        "clf = DecisionTreeClassifier()\n",
        "clf.fit(features, outcomes)\n",
        "Weight = int(input('Weight: '))\n",
        "Texture = int(input('Texture: '))\n",
        "y = clf.predict([[Weight,Texture]])\n",
        "if y[0] ==1:\n",
        "  print('The fruit is orange')\n",
        "else:\n",
        "  print('The fruit is apple')\n",
        "print(type(clf))"
      ],
      "execution_count": null,
      "outputs": []
    }
  ]
}